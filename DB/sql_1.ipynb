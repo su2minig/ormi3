{
  "nbformat": 4,
  "nbformat_minor": 0,
  "metadata": {
    "colab": {
      "provenance": []
    },
    "kernelspec": {
      "name": "python3",
      "display_name": "Python 3"
    },
    "language_info": {
      "name": "python"
    }
  },
  "cells": [
    {
      "cell_type": "code",
      "execution_count": null,
      "metadata": {
        "id": "8lUdJW1jARe-"
      },
      "outputs": [],
      "source": [
        "# 실습 1\n",
        "import sqlite3\n",
        "\n",
        "conn = sqlite3.connect('ex1.db')\n",
        "c = conn.cursor()\n",
        "\n",
        "c.execute('''CREATE TABLE books (id integer, title text, price integer)\n",
        "''')\n",
        "\n",
        "c.execute('''insert into books VALUES (1, 'python 가이드', 5000)''')\n",
        "c.execute('''insert into books VALUES (2, 'js 가이드', 4000)''')\n",
        "\n",
        "conn.commit()\n",
        "conn.close()"
      ]
    },
    {
      "cell_type": "code",
      "source": [
        "conn = sqlite3.connect('ex1.db')\n",
        "c = conn.cursor()\n",
        "\n",
        "# 데이터 조회\n",
        "for row in c.execute('SELECT * FROM books ORDER BY id'):\n",
        "    print(row)\n",
        "\n",
        "# 연결 종료\n",
        "conn.close()"
      ],
      "metadata": {
        "colab": {
          "base_uri": "https://localhost:8080/"
        },
        "id": "VzgmnmOABtKl",
        "outputId": "3b7a2d7c-9993-4e68-d4e9-b0e342604c22"
      },
      "execution_count": 2,
      "outputs": [
        {
          "output_type": "stream",
          "name": "stdout",
          "text": [
            "(1, 'python 가이드', 5000)\n",
            "(2, 'js 가이드', 4000)\n"
          ]
        }
      ]
    },
    {
      "cell_type": "code",
      "source": [
        "# 실습 2\n",
        "import sqlite3\n",
        "\n",
        "conn = sqlite3.connect('ex2.db')\n",
        "c = conn.cursor()\n",
        "\n",
        "c.execute('''CREATE TABLE books (id integer, title text, price integer)\n",
        "''')\n",
        "for i in range(10):\n",
        "    c.execute(f\"insert into books VALUES ({i}, 'python 가이드', {i*1000})\")\n",
        "\n",
        "conn.commit()\n",
        "conn.close()"
      ],
      "metadata": {
        "id": "ILmrLtbOCxKw"
      },
      "execution_count": 4,
      "outputs": []
    },
    {
      "cell_type": "code",
      "source": [
        "conn = sqlite3.connect('ex2.db')\n",
        "c = conn.cursor()\n",
        "\n",
        "# 데이터 조회\n",
        "for row in c.execute('SELECT * FROM books ORDER BY id'):\n",
        "    print(row)\n",
        "\n",
        "# 연결 종료\n",
        "conn.close()"
      ],
      "metadata": {
        "colab": {
          "base_uri": "https://localhost:8080/"
        },
        "id": "l0UGMPEIDCdM",
        "outputId": "3e2ce304-3b63-4547-dd97-2764ac75d162"
      },
      "execution_count": 5,
      "outputs": [
        {
          "output_type": "stream",
          "name": "stdout",
          "text": [
            "(0, 'python 가이드', 0)\n",
            "(1, 'python 가이드', 1000)\n",
            "(2, 'python 가이드', 2000)\n",
            "(3, 'python 가이드', 3000)\n",
            "(4, 'python 가이드', 4000)\n",
            "(5, 'python 가이드', 5000)\n",
            "(6, 'python 가이드', 6000)\n",
            "(7, 'python 가이드', 7000)\n",
            "(8, 'python 가이드', 8000)\n",
            "(9, 'python 가이드', 9000)\n"
          ]
        }
      ]
    },
    {
      "cell_type": "code",
      "source": [
        "# 실습 3\n",
        "import sqlite3\n",
        "\n",
        "data = {\n",
        "    'id': [1, 2, 3],\n",
        "    'title': ['1', '2', '3'],\n",
        "    'content': ['11', '22', '33', '44', '55']\n",
        "}\n",
        "\n",
        "# 데이터베이스에 연결\n",
        "conn = sqlite3.connect('ex3.db')\n",
        "\n",
        "# 커서 생성\n",
        "cursor = conn.cursor()\n",
        "\n",
        "# post 테이블 생성\n",
        "cursor.execute('CREATE TABLE post (id INTEGER, title TEXT, content TEXT)')\n",
        "\n",
        "# 데이터 삽입\n",
        "for i in range(len(data['id'])):\n",
        "    cursor.execute('INSERT INTO post VALUES (?, ?, ?)', (data['id'][i], data['title'][i], data['content'][i]))\n",
        "\n",
        "# 커밋(변경 사항 저장)\n",
        "conn.commit()\n",
        "\n",
        "# 연결 닫기\n",
        "conn.close()"
      ],
      "metadata": {
        "id": "A3skOMzEDWVx"
      },
      "execution_count": 7,
      "outputs": []
    },
    {
      "cell_type": "code",
      "source": [
        "conn = sqlite3.connect('ex3.db')\n",
        "c = conn.cursor()\n",
        "\n",
        "# 데이터 조회\n",
        "for row in c.execute('SELECT * FROM post'):\n",
        "    print(row)\n",
        "\n",
        "# 연결 종료\n",
        "conn.close()"
      ],
      "metadata": {
        "colab": {
          "base_uri": "https://localhost:8080/"
        },
        "id": "rZuql54HDpkV",
        "outputId": "af6f847e-6287-400c-8930-a9424dfa1ead"
      },
      "execution_count": 10,
      "outputs": [
        {
          "output_type": "stream",
          "name": "stdout",
          "text": [
            "(1, '1', '11')\n",
            "(2, '2', '22')\n",
            "(3, '3', '33')\n"
          ]
        }
      ]
    },
    {
      "cell_type": "code",
      "source": [
        "# 여기까지 되었다면\n",
        "# 데이터(크롤링 데이터, JSON 데이터, CSV 데이터)를 가지고\n",
        "# 직접 쿼리를 사용해서 Django DB에 넣는 것이 가능합니다.\n",
        "# db load를 사용해서 Django DB에 넣는 것이 가능합니다\n",
        "# ORM을 사용해서 넣는 것도 가능합니다!"
      ],
      "metadata": {
        "id": "VUQiuHDID3BB"
      },
      "execution_count": null,
      "outputs": []
    },
    {
      "cell_type": "code",
      "source": [
        "import requests\n",
        "from bs4 import BeautifulSoup\n",
        "\n",
        "url = 'https://paullab.co.kr/bookservice/'\n",
        "response = requests.get(url)\n",
        "response.encoding = 'utf-8'\n",
        "html = response.text\n",
        "\n",
        "soup = BeautifulSoup(html, 'html.parser')\n",
        "bookdata = []\n",
        "\n",
        "book_list = soup.select('.book_name')        # lecture 클래스 탐색\n",
        "for lecture in book_list:\n",
        "    bookdata.append(lecture.text)\n",
        "\n",
        "bookdata"
      ],
      "metadata": {
        "colab": {
          "base_uri": "https://localhost:8080/"
        },
        "id": "g9On1dusLpm_",
        "outputId": "66e37a3a-1e77-40a8-f6d3-08669b5bd8f3"
      },
      "execution_count": 22,
      "outputs": [
        {
          "output_type": "execute_result",
          "data": {
            "text/plain": [
              "['메모혁신 Notion(노션) 활용 가이드',\n",
              " '이력서 작성 가이드',\n",
              " '제주코딩베이스캠프 Code Festival: Python 100제 1부',\n",
              " '튜토리얼로 배우는 HTML&CSS',\n",
              " '코딩도장 튜토리얼로 배우는 Python 1편 object',\n",
              " '코딩도장 튜토리얼로 배우는 python 2편 제어문',\n",
              " '코딩도장 튜토리얼로 배우는 Python 문제풀이',\n",
              " '타노스의 건틀릿 알고리즘 With Python',\n",
              " 'xlsxwriter 튜토리얼로 배우는 Python 엑셀 프로그래밍',\n",
              " '러플 튜토리얼로 배우는 Python',\n",
              " '인공지능을 활용한 업무자동화 With Google Developers Group JEJU']"
            ]
          },
          "metadata": {},
          "execution_count": 22
        }
      ]
    },
    {
      "cell_type": "code",
      "source": [
        "import requests\n",
        "from bs4 import BeautifulSoup\n",
        "\n",
        "paullab_url = 'https://paullab.co.kr/bookservice/'\n",
        "response = requests.get(paullab_url)\n",
        "response.encoding = 'utf-8'\n",
        "html = response.text\n",
        "\n",
        "soup = BeautifulSoup(html, 'html.parser')\n",
        "\n",
        "price_list = soup.select('.book_info')\n",
        "\n",
        "for lecture in price_list:\n",
        "    print(lecture.text)"
      ],
      "metadata": {
        "colab": {
          "base_uri": "https://localhost:8080/"
        },
        "id": "m7VHsprWNtfk",
        "outputId": "8e8a11f0-9d94-4be7-9529-a2398ea98e76"
      },
      "execution_count": 1,
      "outputs": [
        {
          "output_type": "stream",
          "name": "stdout",
          "text": [
            "가격: 7,000원\n",
            "저자: 이호준, 이준호, 김혜원, 김유진, 차경림, 김진, 현지연, 정승한\n",
            "Notion의 기본 사용 방법부터 Notion을 활용한 홈페이지 제작 방법까지 다양하게 다루고 있으며 특히 개발자가 원하는 Notion의 활용 방법을 다루고 있습니다.\n",
            "가격: 10,000원\n",
            "저자: 강혜진, 김유진, 김혜원, 김진, 이범재, 이호준, 원유선, 박누리, 차경림, 최원범, 한재현\n",
            "개발자 역량을 갖추는 것뿐만 아니라 회사에 뽑힐 확률을 높이는 전략과 방법도 필요합니다. 개발자 이력서는 그 첫걸음입니다.\n",
            "가격: 무료\n",
            "저자: 이호준, 강민정, 김유진, 정윤하, 최원범\n",
            "파이썬으로 풀 수 있는 100문제를 만들었습니다. 50문제씩 1부(초급, 중급)와 2부(중급, 고급)로 나누어져있습니다.\n",
            "가격: 4,900원\n",
            "저자: 이호준, 박민균, 양지혜, 정민준, 박소영, 전유빈\n",
            "튜토리얼을 통해 일단 만들어 봅시다! 무엇이든 일단 만들어 보면 길이 보이기 시작합니다. 그 다음 웹 동작방법, 태그의 동작 방식, 브라우저 렌더링 엔진 등에 대하여 부담이 되지 않을 만큼씩 배워가세요.\n",
            "가격: 3,000원\n",
            "저자: 이호준, 정민준, 배희성, 김덕주, 한승협\n",
            "파이썬은 이해하기 쉽고 간결한 문법으로 생산성이 높아 교육을 포함한 다양한 분야 에서 활용되고 있는 언어입니다. 빅데이터 분석, 머신러닝, 웹 개발 등 다양하게 쓰이는 Python을 예제를 통해 배워보세요. 이 책은 여러 미션을 스토리텔링 형식으로 제공하며 튜토리얼 별로 코드를 제공하여 쉽고 재미있게 코딩 개념을 익힐 수 있도록 도와줄 것입니다.\n",
            "                    \n",
            "가격: 4,900원\n",
            "저자: 이호준, 우지훈, 박소영, 허재영\n",
            "파이썬 튜토리얼 시리즈는 1편 Object 2편 제어문 3편 문제풀이로 구성되어 있습니다.\n",
            "가격: 무료\n",
            "저자: 이호준, 전유빈, 김태범, 한승협, 김혜원, 강민정\n",
            "\n",
            "                          이 책은 Python 문법을 이제 막 끝낸 분에게 추천해 드립니다. \n",
            "                          코딩도장 사이트에 문제를 풀어보며 Python에 보다 깊게 다가가 보세요.\n",
            "                          다양한 문제들이 여러분의 실력을 향상시켜 줄 것입니다.\n",
            "가격: 무료\n",
            "저자: 이호준, 한승협, 강민정, 신민욱\n",
            "이 책은 Python 문법을 이제 막 끝낸 분에게 추천해 드립니다. \n",
            "                          타노스의 핑거스냅 문제를 다양한 시각으로 풀어보며 Python에 보다 깊게 다가가 보세요. \n",
            "                          다양한 시각이 여러분의 실력을 향상시켜줄 것입니다.\n",
            "가격: 무료\n",
            "저자: 이호준, 강상권, 오재원, 전진환, 문형철, 이현창\n",
            "이 책은 빅데이터를 가공하여 엑셀로 가시화 시키기 원하는 업무 담당자와 단순 업무를 Python을 이용하여 자동화 시키려 하는 업무 담당자에게 추천해드립니다. \n",
            "                          또한 부서의 업무 고도화, 효율화를 위해 적절한 자동화 프로그램을 찾지 못한 기업과 학문적 호기심을 가진 개인에게도 추천해 드립니다. \n",
            "                          세계에서 유행중인 Python은 타 언어에 비해 다루기 쉬우며 풍성한 라이브러리로 원하는 프로그램을 직접 만들기에 적합합니다.\n",
            "가격: 4,900\n",
            "저자: 이호준, 배희성, 양지혜, 박소영, 김수연, 정민준\n",
            "이 책은 소프트웨어 교육을 처음 접했거나 스크래치, \n",
            "                              엔트리 등 블록기반 교육용 소프트웨어 다음으로 무엇을 배워야 할 지 모르는 초등학교 학생,\n",
            "                              중학교 학생과 소프트웨어 교육을 담당하는 선생님께 권해드립니다.\n",
            "                               파이썬 코드로 로봇을 제어하면서 코딩을 쉽게 배울 수 있는 러플은 고급 프로그래밍 언어를 처음 접하는\n",
            "                                학생들이 쉽게 언어기반 프로그래밍을 이해할 수 있도록 도와줍니다.\n",
            "가격: 무료\n",
            "저자: 이호준, 이준호, 현암, 윤현담, 김루비, 이동민, 유승엽, 박서윤, 김채린, 한승협, 안상우, 장성원, 전진환, 강민성, 조민구, 전창삼\n",
            "이 책은 반복적이고 지루한 단순 업무를 Python을 이용하여 \n",
            "                          자동화 시키려 하는 업무 담당자와 데이터를 가공하여 가시화 시키기 원하는 업무 담당자에게 추천해드립니다.\n",
            "                           또한 부서의 업무 고도화, 효율화를 위해 적절한 자동화 프로그램을 찾지 못한 기업과 학문적 호기심을 가진 개인에게도 추천해 드립니다. \n",
            "                          세계에서 유행중인 Python은 타 언어에 비해 다루기 쉬우며 풍성한 라이브러리로 원하는 프로그램을 직접 만들기에 적합합니다.\n"
          ]
        }
      ]
    },
    {
      "cell_type": "code",
      "source": [
        "print(price_list[4])"
      ],
      "metadata": {
        "colab": {
          "base_uri": "https://localhost:8080/"
        },
        "id": "aUoetmhHQpRH",
        "outputId": "af2c0410-77c5-4ba5-9805-64a1f95e0576"
      },
      "execution_count": 55,
      "outputs": [
        {
          "output_type": "stream",
          "name": "stdout",
          "text": [
            "<p class=\"book_info\" style=\"margin-bottom: 0;\">저자: 강혜진, 김유진, 김혜원, 김진, 이범재, 이호준, 원유선, 박누리, 차경림, 최원범, 한재현</p>\n"
          ]
        }
      ]
    },
    {
      "cell_type": "code",
      "source": [
        "data = []\n",
        "for i in range(len(price_list)):\n",
        "    if (i+1) %  3 != 0:\n",
        "        data.append(price_list[i].text)\n",
        "\n",
        "data"
      ],
      "metadata": {
        "colab": {
          "base_uri": "https://localhost:8080/"
        },
        "id": "FXJAzuDDSlRU",
        "outputId": "f566bec8-7284-4eb5-ce76-f3801b5f93f2"
      },
      "execution_count": 4,
      "outputs": [
        {
          "output_type": "execute_result",
          "data": {
            "text/plain": [
              "['가격: 7,000원',\n",
              " '저자: 이호준, 이준호, 김혜원, 김유진, 차경림, 김진, 현지연, 정승한',\n",
              " '가격: 10,000원',\n",
              " '저자: 강혜진, 김유진, 김혜원, 김진, 이범재, 이호준, 원유선, 박누리, 차경림, 최원범, 한재현',\n",
              " '가격: 무료',\n",
              " '저자: 이호준, 강민정, 김유진, 정윤하, 최원범',\n",
              " '가격: 4,900원',\n",
              " '저자: 이호준, 박민균, 양지혜, 정민준, 박소영, 전유빈',\n",
              " '가격: 3,000원',\n",
              " '저자: 이호준, 정민준, 배희성, 김덕주, 한승협',\n",
              " '가격: 4,900원',\n",
              " '저자: 이호준, 우지훈, 박소영, 허재영',\n",
              " '가격: 무료',\n",
              " '저자: 이호준, 전유빈, 김태범, 한승협, 김혜원, 강민정',\n",
              " '가격: 무료',\n",
              " '저자: 이호준, 한승협, 강민정, 신민욱',\n",
              " '가격: 무료',\n",
              " '저자: 이호준, 강상권, 오재원, 전진환, 문형철, 이현창',\n",
              " '가격: 4,900',\n",
              " '저자: 이호준, 배희성, 양지혜, 박소영, 김수연, 정민준',\n",
              " '가격: 무료',\n",
              " '저자: 이호준, 이준호, 현암, 윤현담, 김루비, 이동민, 유승엽, 박서윤, 김채린, 한승협, 안상우, 장성원, 전진환, 강민성, 조민구, 전창삼']"
            ]
          },
          "metadata": {},
          "execution_count": 4
        }
      ]
    },
    {
      "cell_type": "code",
      "source": [
        "pricedata = []\n",
        "for i in range(len(data)):\n",
        "    if (i+1) % 2 != 0:\n",
        "        pricedata.append(data[i][4:])\n",
        "\n",
        "pricedata"
      ],
      "metadata": {
        "colab": {
          "base_uri": "https://localhost:8080/"
        },
        "id": "tNV9D-v2Wo2-",
        "outputId": "e0daf2a0-7715-46e2-9d81-45f8c2ad53ea"
      },
      "execution_count": 9,
      "outputs": [
        {
          "output_type": "execute_result",
          "data": {
            "text/plain": [
              "['7,000원',\n",
              " '10,000원',\n",
              " '무료',\n",
              " '4,900원',\n",
              " '3,000원',\n",
              " '4,900원',\n",
              " '무료',\n",
              " '무료',\n",
              " '무료',\n",
              " '4,900',\n",
              " '무료']"
            ]
          },
          "metadata": {},
          "execution_count": 9
        }
      ]
    },
    {
      "cell_type": "code",
      "source": [
        "authordata = []\n",
        "for i in range(len(data)):\n",
        "    if (i+1) % 2 == 0:\n",
        "        authordata.append(data[i])\n",
        "\n",
        "authordata"
      ],
      "metadata": {
        "colab": {
          "base_uri": "https://localhost:8080/"
        },
        "id": "lnDXikhoXQAa",
        "outputId": "d16853ae-6307-4bf2-b0cc-cc5d533f157d"
      },
      "execution_count": 6,
      "outputs": [
        {
          "output_type": "execute_result",
          "data": {
            "text/plain": [
              "['저자: 이호준, 이준호, 김혜원, 김유진, 차경림, 김진, 현지연, 정승한',\n",
              " '저자: 강혜진, 김유진, 김혜원, 김진, 이범재, 이호준, 원유선, 박누리, 차경림, 최원범, 한재현',\n",
              " '저자: 이호준, 강민정, 김유진, 정윤하, 최원범',\n",
              " '저자: 이호준, 박민균, 양지혜, 정민준, 박소영, 전유빈',\n",
              " '저자: 이호준, 정민준, 배희성, 김덕주, 한승협',\n",
              " '저자: 이호준, 우지훈, 박소영, 허재영',\n",
              " '저자: 이호준, 전유빈, 김태범, 한승협, 김혜원, 강민정',\n",
              " '저자: 이호준, 한승협, 강민정, 신민욱',\n",
              " '저자: 이호준, 강상권, 오재원, 전진환, 문형철, 이현창',\n",
              " '저자: 이호준, 배희성, 양지혜, 박소영, 김수연, 정민준',\n",
              " '저자: 이호준, 이준호, 현암, 윤현담, 김루비, 이동민, 유승엽, 박서윤, 김채린, 한승협, 안상우, 장성원, 전진환, 강민성, 조민구, 전창삼']"
            ]
          },
          "metadata": {},
          "execution_count": 6
        }
      ]
    },
    {
      "cell_type": "code",
      "source": [
        "bookdata[1]"
      ],
      "metadata": {
        "colab": {
          "base_uri": "https://localhost:8080/"
        },
        "id": "PEdSrR67YIeT",
        "outputId": "ccd61bd6-7755-4778-ef7e-ea7f138a1ee4"
      },
      "execution_count": 73,
      "outputs": [
        {
          "output_type": "execute_result",
          "data": {
            "text/plain": [
              "['이력서 작성 가이드']"
            ]
          },
          "metadata": {},
          "execution_count": 73
        }
      ]
    },
    {
      "cell_type": "code",
      "source": [
        "import sqlite3\n",
        "\n",
        "# 데이터베이스에 연결\n",
        "conn = sqlite3.connect('db.sqlite3')\n",
        "\n",
        "# 커서 생성\n",
        "cursor = conn.cursor()\n",
        "\n",
        "# 데이터 삽입\n",
        "for i in range(len(bookdata)):\n",
        "    cursor.execute(f'INSERT INTO blog_book VALUES ({i+1}, \"{bookdata[i]}\", \"{pricedata[i]}\", \"{authordata[i]}\")')\n",
        "\n",
        "# 커밋(변경 사항 저장)\n",
        "conn.commit()\n",
        "\n",
        "# 연결 닫기\n",
        "conn.close()"
      ],
      "metadata": {
        "id": "HsYXyp_FYHWV"
      },
      "execution_count": 10,
      "outputs": []
    },
    {
      "cell_type": "code",
      "source": [
        "conn = sqlite3.connect('db.sqlite3')\n",
        "c = conn.cursor()\n",
        "\n",
        "# 데이터 조회\n",
        "for row in c.execute('SELECT * FROM blog_book'):\n",
        "    print(row)\n",
        "\n",
        "# 연결 종료\n",
        "conn.close()"
      ],
      "metadata": {
        "colab": {
          "base_uri": "https://localhost:8080/"
        },
        "id": "caXRtnWsaYaa",
        "outputId": "d417e114-011e-4ecc-e1aa-2650a6676617"
      },
      "execution_count": 11,
      "outputs": [
        {
          "output_type": "stream",
          "name": "stdout",
          "text": [
            "(1, \"['메모혁신 Notion(노션) 활용 가이드']\", '7,000원', '저자: 이호준, 이준호, 김혜원, 김유진, 차경림, 김진, 현지연, 정승한')\n",
            "(2, \"['이력서 작성 가이드']\", '10,000원', '저자: 강혜진, 김유진, 김혜원, 김진, 이범재, 이호준, 원유선, 박누리, 차경림, 최원범, 한재현')\n",
            "(3, \"['제주코딩베이스캠프 Code Festival: Python 100제 1부']\", '무료', '저자: 이호준, 강민정, 김유진, 정윤하, 최원범')\n",
            "(4, \"['튜토리얼로 배우는 HTML&CSS']\", '4,900원', '저자: 이호준, 박민균, 양지혜, 정민준, 박소영, 전유빈')\n",
            "(5, \"['코딩도장 튜토리얼로 배우는 Python 1편 object']\", '3,000원', '저자: 이호준, 정민준, 배희성, 김덕주, 한승협')\n",
            "(6, \"['코딩도장 튜토리얼로 배우는 python 2편 제어문']\", '4,900원', '저자: 이호준, 우지훈, 박소영, 허재영')\n",
            "(7, \"['코딩도장 튜토리얼로 배우는 Python 문제풀이']\", '무료', '저자: 이호준, 전유빈, 김태범, 한승협, 김혜원, 강민정')\n",
            "(8, \"['타노스의 건틀릿 알고리즘 With Python']\", '무료', '저자: 이호준, 한승협, 강민정, 신민욱')\n",
            "(9, \"['xlsxwriter 튜토리얼로 배우는 Python 엑셀 프로그래밍']\", '무료', '저자: 이호준, 강상권, 오재원, 전진환, 문형철, 이현창')\n",
            "(10, \"['러플 튜토리얼로 배우는 Python']\", '4,900', '저자: 이호준, 배희성, 양지혜, 박소영, 김수연, 정민준')\n",
            "(11, \"['인공지능을 활용한 업무자동화 With Google Developers Group JEJU']\", '무료', '저자: 이호준, 이준호, 현암, 윤현담, 김루비, 이동민, 유승엽, 박서윤, 김채린, 한승협, 안상우, 장성원, 전진환, 강민성, 조민구, 전창삼')\n"
          ]
        }
      ]
    },
    {
      "cell_type": "code",
      "source": [
        "# 요구사항1. book 크롤링한 데이터를 데이터베이스에 담아야 합니다.\n",
        "\n",
        "import requests\n",
        "from bs4 import BeautifulSoup\n",
        "\n",
        "paullab_url = 'https://paullab.co.kr/bookservice/'\n",
        "response = requests.get(paullab_url)\n",
        "response.encoding = 'utf-8'\n",
        "html = response.text\n",
        "\n",
        "soup = BeautifulSoup(html, 'html.parser')\n",
        "\n",
        "data_list = soup.select('.book_name ')        # lecture 클래스 탐색\n",
        "price_list = soup.select('.book_info')\n",
        "bookdata = []\n",
        "data = []\n",
        "pricedata = []\n",
        "authordata = []\n",
        "\n",
        "for lecture in book_list:\n",
        "    bookdata.append(lecture.text)\n",
        "\n",
        "for i in range(len(price_list)):\n",
        "    if (i+1) %  3 != 0:\n",
        "        data.append(price_list[i].text)\n",
        "\n",
        "for i in range(len(data)):\n",
        "    if (i+1) % 2 != 0:\n",
        "        pricedata.append(data[i][4:])\n",
        "    else:\n",
        "        authordata.append(data[i][4:])\n",
        "\n",
        "# 데이터베이스 생성 및 저장\n",
        "import sqlite3\n",
        "\n",
        "\n",
        "conn = sqlite3.connect('test.sqlite3')\n",
        "\n",
        "cursor = conn.cursor()\n",
        "\n",
        "cursor.execute(\n",
        "    'CREATE TABLE blog_book (id INTEGER, title TEXT, price TEXT, author TEXT)')\n",
        "\n",
        "for i in range(len(bookdata)):\n",
        "    cursor.execute(f'INSERT INTO blog_book VALUES ({i+1}, \"{bookdata[i]}\", \"{pricedata[i]}\", \"{authordata[i]}\")')\n",
        "\n",
        "conn.commit()\n",
        "\n",
        "conn.close()\n",
        "\n",
        "conn = sqlite3.connect('test.sqlite3')\n",
        "c = conn.cursor()\n",
        "\n",
        "# 데이터 조회\n",
        "for row in c.execute('SELECT * FROM blog_book'):\n",
        "    print(row)\n",
        "\n",
        "# 연결 종료\n",
        "conn.close()\n",
        "# 요구사항2. 데이터베이스를 읽습니다.\n",
        "# 요구사항3. 데이터베이스를 JSON 형태로 출력해야 합니다. 출력 이름은 output.json\n",
        "import json\n",
        "import sqlite3\n",
        "\n",
        "conn = sqlite3.connect('test.sqlite3')\n",
        "test = conn.cursor()\n",
        "\n",
        "jsondata = []\n",
        "for i in range(len(bookdata)):\n",
        "    j = {\n",
        "        \"id\": (i+1),\n",
        "        \"title\": bookdata[i],\n",
        "        \"price\": pricedata[i],\n",
        "        \"author\": authordata[i]\n",
        "    }\n",
        "    jsondata.append(j)\n",
        "\n",
        "conn.close()\n",
        "\n",
        "with open('ouput.json', 'w') as f:\n",
        "    json.dump(jsondata, f, indent=4, ensure_ascii=False)"
      ],
      "metadata": {
        "id": "4quZhrTZKXTF"
      },
      "execution_count": null,
      "outputs": []
    },
    {
      "cell_type": "code",
      "source": [
        "import json\n",
        "import sqlite3\n",
        "\n",
        "conn = sqlite3.connect('db.sqlite3')\n",
        "test = conn.cursor()\n",
        "\n",
        "jsondata = []\n",
        "for i in range(len(bookdata)):\n",
        "    j = {\n",
        "        \"id\": (i+1),\n",
        "        \"title\": bookdata[i],\n",
        "        \"price\": pricedata[i],\n",
        "        \"author\": authordata[i]\n",
        "    }\n",
        "    jsondata.append(j)\n",
        "\n",
        "conn.close()\n",
        "\n",
        "with open('ouput.json', 'w') as f:\n",
        "    json.dump(jsondata, f, indent=4, ensure_ascii=False)"
      ],
      "metadata": {
        "id": "3x3orgtMho6Z"
      },
      "execution_count": 27,
      "outputs": []
    },
    {
      "cell_type": "code",
      "source": [
        "import sqlite3\n",
        "\n",
        "\n",
        "conn = sqlite3.connect('test.sqlite3')\n",
        "\n",
        "cursor = conn.cursor()\n",
        "\n",
        "cursor.execute(\n",
        "    'CREATE TABLE blog_book (id INTEGER, title TEXT, price TEXT, author TEXT)')\n",
        "\n",
        "for i in range(len(bookdata)):\n",
        "    cursor.execute(f'INSERT INTO blog_book VALUES ({i+1}, \"{bookdata[i]}\", \"{pricedata[i]}\", \"{authordata[i]}\")')\n",
        "\n",
        "conn.commit()\n",
        "\n",
        "conn.close()\n",
        "\n",
        "conn = sqlite3.connect('test.sqlite3')\n",
        "c = conn.cursor()"
      ],
      "metadata": {
        "id": "9846rsLHovau"
      },
      "execution_count": 28,
      "outputs": []
    },
    {
      "cell_type": "code",
      "source": [
        "import json\n",
        "import sqlite3\n",
        "import requests\n",
        "from bs4 import BeautifulSoup\n",
        "\n",
        "# 크롤링\n",
        "url = 'https://paullab.co.kr/bookservice/'\n",
        "response = requests.get(url)\n",
        "response.encoding = 'utf-8'\n",
        "html = response.text\n",
        "\n",
        "soup = BeautifulSoup(html, 'html.parser')\n",
        "\n",
        "title = []\n",
        "price = []\n",
        "author = []\n",
        "total = [title, price, author]\n",
        "# 1: 제목, 2: 가격, 3: 저자\n",
        "for i in range(1, 4):\n",
        "    book_list = soup.select(f'.book_detail :nth-child({i})')\n",
        "    for book in book_list:\n",
        "        text = book.text\n",
        "        if ':' in text:\n",
        "            text = text.split(': ')[1]\n",
        "        total[i-1].append(text)\n",
        "data = list(zip(total[0], total[1], total[2]))"
      ],
      "metadata": {
        "id": "Y_d16HLtrK_U"
      },
      "execution_count": 29,
      "outputs": []
    },
    {
      "cell_type": "code",
      "source": [
        "type(data)"
      ],
      "metadata": {
        "colab": {
          "base_uri": "https://localhost:8080/"
        },
        "id": "kbU6q1iQrNCD",
        "outputId": "721bf5be-96b0-401c-905f-c0d5f532ce8b"
      },
      "execution_count": 31,
      "outputs": [
        {
          "output_type": "execute_result",
          "data": {
            "text/plain": [
              "list"
            ]
          },
          "metadata": {},
          "execution_count": 31
        }
      ]
    },
    {
      "cell_type": "code",
      "source": [
        "# 남영훈님 코드\n",
        "# import requests\n",
        "# from bs4 import BeautifulSoup\n",
        "# import sqlite3\n",
        "# import json\n",
        "\n",
        "# # 요구사항 1. book 크롤링한 데이터를 데이터베이스에 담기\n",
        "# url = 'https://paullab.co.kr/bookservice/'\n",
        "# response = requests.get(url)\n",
        "# response.encoding = 'utf-8'\n",
        "# html = response.text\n",
        "\n",
        "# soup = BeautifulSoup(html, 'html.parser')\n",
        "# book_details = soup.select('.book_detail')\n",
        "\n",
        "# books_data = []\n",
        "# for item in book_details:\n",
        "#     book_name = item.select('.book_name')[0].text.strip()\n",
        "#     book_price = item.select('.book_info')[0].text[3:].strip()\n",
        "#     book_author = item.select('.book_info')[1].text[3:].strip()\n",
        "#     books_data.append((book_name, book_price, book_author))\n",
        "\n",
        "# db = sqlite3.connect('practice.db')\n",
        "# conn = db.cursor()\n",
        "\n",
        "# ## 데이터베이스를 생성\n",
        "# conn.execute(\"CREATE TABLE book_crawler (id INTEGER, title TEXT, price TEXT, author TEXT)\")\n",
        "\n",
        "# ## 데이터 삽입\n",
        "# for idx, item in enumerate(books_data, 1):\n",
        "#     conn.execute(f\"INSERT INTO book_crawler VALUES ({idx}, '{item[0]}', '{item[1]}', '{item[2]}')\")"
      ],
      "metadata": {
        "id": "ZyTW_ptksOg_"
      },
      "execution_count": null,
      "outputs": []
    },
    {
      "cell_type": "code",
      "source": [
        "# 찬양님 코드\n",
        "# import requests\n",
        "# from bs4 import BeautifulSoup\n",
        "# import sqlite3\n",
        "# import json\n",
        "\n",
        "# conn = sqlite3.connect('books2.db')\n",
        "# c = conn.cursor()\n",
        "\n",
        "# c.execute('CREATE TABLE books (id integer, title text, price integer, author text)')\n",
        "\n",
        "# paullab_url = 'http://paullab.co.kr/bookservice/'\n",
        "# response = requests.get(paullab_url)\n",
        "# response.encoding = 'utf-8'\n",
        "# html = response.text\n",
        "\n",
        "# soup = BeautifulSoup(html, 'html.parser')\n",
        "# data = []\n",
        "\n",
        "# book_name_list = soup.select('.book_detail > .book_name')\n",
        "# book_price_list = soup.select('.book_detail > .book_info')[::3]\n",
        "# book_author_list = soup.select('.book_detail > .book_info')[1::3]\n",
        "\n",
        "# for i in range(len(book_name_list)):\n",
        "#     name = book_name_list[i].text\n",
        "#     price = book_price_list[i].text[4:].replace('원', '').replace(',', '').replace('무료', '0')\n",
        "#     author = book_author_list[i].text[4:]\n",
        "#     c.execute('INSERT INTO books VALUES (?, ?, ?, ?)', (i, name, price, author))\n",
        "\n",
        "# conn.commit()\n",
        "\n",
        "# books = []\n",
        "\n",
        "# for row in c.execute('SELECT * FROM books'):\n",
        "#     books.append({\n",
        "#         'id': row[0],\n",
        "#         'title': row[1],\n",
        "#         'price': row[2],\n",
        "#         'author': row[3],\n",
        "#     })\n",
        "\n",
        "# with open('.\\output.json', 'w', encoding='utf-8') as file:\n",
        "#     json.dump(books, file, indent=\"\\t\", ensure_ascii=False)\n",
        "\n",
        "# conn.close()"
      ],
      "metadata": {
        "id": "JFXkXp9Yue-q"
      },
      "execution_count": null,
      "outputs": []
    }
  ]
}