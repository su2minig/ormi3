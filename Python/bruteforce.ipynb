{
  "nbformat": 4,
  "nbformat_minor": 0,
  "metadata": {
    "colab": {
      "provenance": []
    },
    "kernelspec": {
      "name": "python3",
      "display_name": "Python 3"
    },
    "language_info": {
      "name": "python"
    }
  },
  "cells": [
    {
      "cell_type": "code",
      "source": [
        "import requests\n",
        "import itertools\n",
        "\n",
        "문자열 = '0123456789'  # 특수 문자는 없다고 가정한다\n",
        "\n",
        "for 패스워드길이 in range(1, 5):  # 1 - 1~3에서 1~5까지 해볼 것\n",
        "    for password in itertools.product(문자열, repeat=패스워드길이):\n",
        "        pw = ''.join(password)\n",
        "        print(pw)\n",
        "        로그인패킷 = {'id': 'hojun', 'pw': pw}\n",
        "        print(로그인패킷)\n",
        "\n",
        "        address = requests.post('http://127.0.0.1:8080', data=로그인패킷)\n",
        "        if 'Wellcome' in address.text:\n",
        "            exit()"
      ],
      "metadata": {
        "id": "Mr3isSyl9O4Y"
      },
      "execution_count": null,
      "outputs": []
    },
    {
      "cell_type": "code",
      "source": [
        "teststring = ('Lorem Ipsum is simply dummy text of the printing \\\n",
        "and typesetting industry. Lorem Ipsum has been the industrys standard \\\n",
        "dummy text ever since the 1500s, when an unknown printer took a galley of \\\n",
        "type and scrambled it to make a type specimen book. It has survived not \\\n",
        "only five centuries, but also the leap into electronic typesetting, \\\n",
        "remaining essentially unchanged. It was popularised in the 1960s with the \\\n",
        "release of Letraset sheets containing Lorem Ipsum passages, and more recently')\n",
        "\n",
        "teststring"
      ],
      "metadata": {
        "colab": {
          "base_uri": "https://localhost:8080/",
          "height": 89
        },
        "id": "pTurKfCk9-HE",
        "outputId": "b7666609-f34d-4748-e1bb-8fcd2ad03858"
      },
      "execution_count": 4,
      "outputs": [
        {
          "output_type": "execute_result",
          "data": {
            "text/plain": [
              "'Lorem Ipsum is simply dummy text of the printing and typesetting industry. Lorem Ipsum has been the industrys standard dummy text ever since the 1500s, when an unknown printer took a galley of type and scrambled it to make a type specimen book. It has survived not only five centuries, but also the leap into electronic typesetting, remaining essentially unchanged. It was popularised in the 1960s with the release of Letraset sheets containing Lorem Ipsum passages, and more recently'"
            ],
            "application/vnd.google.colaboratory.intrinsic+json": {
              "type": "string"
            }
          },
          "metadata": {},
          "execution_count": 4
        }
      ]
    },
    {
      "cell_type": "code",
      "source": [
        "teststring = ('Lorem Ipsum is simply dummy text of the printing'\n",
        "                'and typesetting industry. Lorem Ipsum has been the industrys standard'\n",
        "                'dummy text ever since the 1500s, when an unknown printer took a galley of'\n",
        "                'type and scrambled it to make a type specimen book. It has survived not'\n",
        "                'only five centuries, but also the leap into electronic typesetting,'\n",
        "                'remaining essentially unchanged. It was popularised in the 1960s with the'\n",
        "                'release of Letraset sheets containing Lorem Ipsum passages, and more recently')\n",
        "\n",
        "teststring"
      ],
      "metadata": {
        "colab": {
          "base_uri": "https://localhost:8080/",
          "height": 89
        },
        "id": "jesMcK9a-Vis",
        "outputId": "6cce6802-5c53-4068-b37c-58d044cd3d6e"
      },
      "execution_count": 5,
      "outputs": [
        {
          "output_type": "execute_result",
          "data": {
            "text/plain": [
              "'Lorem Ipsum is simply dummy text of the printingand typesetting industry. Lorem Ipsum has been the industrys standarddummy text ever since the 1500s, when an unknown printer took a galley oftype and scrambled it to make a type specimen book. It has survived notonly five centuries, but also the leap into electronic typesetting,remaining essentially unchanged. It was popularised in the 1960s with therelease of Letraset sheets containing Lorem Ipsum passages, and more recently'"
            ],
            "application/vnd.google.colaboratory.intrinsic+json": {
              "type": "string"
            }
          },
          "metadata": {},
          "execution_count": 5
        }
      ]
    },
    {
      "cell_type": "code",
      "source": [
        "teststring = ('''\n",
        "                hello world\n",
        "                hello world\n",
        "                hello world\n",
        "                hello world\n",
        "                ''')\n",
        "\n",
        "teststring"
      ],
      "metadata": {
        "colab": {
          "base_uri": "https://localhost:8080/",
          "height": 53
        },
        "id": "ioI4SQlU-kZo",
        "outputId": "79df12fb-3d94-49ae-a972-8b9ae0684e4f"
      },
      "execution_count": 6,
      "outputs": [
        {
          "output_type": "execute_result",
          "data": {
            "text/plain": [
              "'\\n                hello world\\n                hello world\\n                hello world\\n                hello world\\n                '"
            ],
            "application/vnd.google.colaboratory.intrinsic+json": {
              "type": "string"
            }
          },
          "metadata": {},
          "execution_count": 6
        }
      ]
    },
    {
      "cell_type": "code",
      "source": [
        "import itertools\n",
        "\n",
        "list(itertools.product('ABCD', repeat=2)) # 중복되는 요소가 있기 때문에 비밀번호 깰때 많이 사용합니다.\n",
        "# 데카르트곱"
      ],
      "metadata": {
        "colab": {
          "base_uri": "https://localhost:8080/"
        },
        "id": "LiZn_rqq9io8",
        "outputId": "4915b1f6-7dbc-4784-fe0f-4feedd1dc507"
      },
      "execution_count": 3,
      "outputs": [
        {
          "output_type": "execute_result",
          "data": {
            "text/plain": [
              "[('A', 'A'),\n",
              " ('A', 'B'),\n",
              " ('A', 'C'),\n",
              " ('A', 'D'),\n",
              " ('B', 'A'),\n",
              " ('B', 'B'),\n",
              " ('B', 'C'),\n",
              " ('B', 'D'),\n",
              " ('C', 'A'),\n",
              " ('C', 'B'),\n",
              " ('C', 'C'),\n",
              " ('C', 'D'),\n",
              " ('D', 'A'),\n",
              " ('D', 'B'),\n",
              " ('D', 'C'),\n",
              " ('D', 'D')]"
            ]
          },
          "metadata": {},
          "execution_count": 3
        }
      ]
    },
    {
      "cell_type": "code",
      "source": [
        "list(itertools.permutations('ABCD', 2)) # 순열, 중복되는 요소가 없음"
      ],
      "metadata": {
        "colab": {
          "base_uri": "https://localhost:8080/"
        },
        "id": "Uj3K1qMC-9U0",
        "outputId": "51923765-d642-416b-de91-18037c675b72"
      },
      "execution_count": 7,
      "outputs": [
        {
          "output_type": "execute_result",
          "data": {
            "text/plain": [
              "[('A', 'B'),\n",
              " ('A', 'C'),\n",
              " ('A', 'D'),\n",
              " ('B', 'A'),\n",
              " ('B', 'C'),\n",
              " ('B', 'D'),\n",
              " ('C', 'A'),\n",
              " ('C', 'B'),\n",
              " ('C', 'D'),\n",
              " ('D', 'A'),\n",
              " ('D', 'B'),\n",
              " ('D', 'C')]"
            ]
          },
          "metadata": {},
          "execution_count": 7
        }
      ]
    },
    {
      "cell_type": "code",
      "source": [
        "list(itertools.combinations('ABCD', 2)) # 조합"
      ],
      "metadata": {
        "colab": {
          "base_uri": "https://localhost:8080/"
        },
        "id": "CbfYHg-O_TlF",
        "outputId": "c60ad7ab-972a-4f81-c6ef-d06364ea7315"
      },
      "execution_count": 9,
      "outputs": [
        {
          "output_type": "execute_result",
          "data": {
            "text/plain": [
              "[('A', 'B'), ('A', 'C'), ('A', 'D'), ('B', 'C'), ('B', 'D'), ('C', 'D')]"
            ]
          },
          "metadata": {},
          "execution_count": 9
        }
      ]
    },
    {
      "cell_type": "code",
      "execution_count": null,
      "metadata": {
        "id": "UXn75gEh9G3A"
      },
      "outputs": [],
      "source": [
        "import requests\n",
        "import itertools\n",
        "\n",
        "문자열 = '0123456789'  # 특수 문자는 없다고 가정한다\n",
        "\n",
        "for 패스워드길이 in range(1, 5):  # 1 - 1~3에서 1~5까지 해볼 것\n",
        "    for password in itertools.product(문자열, repeat=패스워드길이):\n",
        "        pw = ''.join(password)\n",
        "        print(pw)"
      ]
    },
    {
      "cell_type": "code",
      "source": [
        "import requests\n",
        "import itertools\n",
        "\n",
        "문자열 = '0123456789' # 특수 문자는 없다고 가정한다\n",
        "\n",
        "for 패스워드길이 in range(1, 5):  # 1 - 1~3에서 1~5까지 해볼 것\n",
        "    for password in itertools.product(문자열, repeat=패스워드길이):\n",
        "        pw = ''.join(password)\n",
        "        로그인패킷 = {'id': 'hojun', 'pw': pw}\n",
        "\n",
        "        address = requests.post('http://127.0.0.1:8000', data=로그인패킷)\n",
        "        if 'Wellcome' in address.text:\n",
        "            exit()"
      ],
      "metadata": {
        "id": "ybeMV7sl_6Bb"
      },
      "execution_count": null,
      "outputs": []
    }
  ]
}